{
 "cells": [
  {
   "cell_type": "markdown",
   "id": "expressed-journal",
   "metadata": {},
   "source": [
    "# Evaluate accuracy of the classifier on training data"
   ]
  },
  {
   "cell_type": "code",
   "execution_count": 14,
   "id": "agreed-blind",
   "metadata": {},
   "outputs": [],
   "source": [
    "import pandas as pd\n",
    "import numpy as np\n",
    "\n",
    "from sklearn.preprocessing import PolynomialFeatures\n",
    "from sklearn.metrics import classification_report, accuracy_score, confusion_matrix"
   ]
  },
  {
   "cell_type": "code",
   "execution_count": 10,
   "id": "internal-shape",
   "metadata": {},
   "outputs": [],
   "source": [
    "# Mapping column names in csv file\n",
    "# Used for feature generation and training\n",
    "\n",
    "cam_a_k = 'cam_a'         # Camera incline relative to a ground surface, deg\n",
    "cam_y_k = 'y'             # Ground surface offset (negative camera height) relative to a camera origin, m\n",
    "z_est_k = 'z_est'         # Distance to the closest object point (for a camera) estimated by feature extractor, m\n",
    "z_k = 'z'                 # Real object distance the closest object point (for a camera), m\n",
    "x_est_k = 'x_est'         # Central object x coordinate estimated by feature extractor, m\n",
    "x_k = 'x'                 # Real central object x coordinate, m\n",
    "w_est_k = 'width_est'     # Object width estimated by feature extractor, m\n",
    "ww_k = 'ww'               # Real object width, m\n",
    "h_est_k = 'height_est'    # Object height estimated by feature extractor, m\n",
    "hh_k = 'hh'               # Real object height, m\n",
    "ca_est_k = 'rw_ca_est'    # Object contour area estimated by feature extractor, m2 \n",
    "o_name_k = 'o_name'       # Unique name of an object\n",
    "o_class_k = 'o_class'     # Object class as an integer, where 0 is a noise class\n",
    "ry_k = 'ry'               # Initial offset of r_y (some objects are initially rotated by back to a camera)\n",
    "b_rec_k = ('x_px', 'y_px', 'w_px', 'h_px')  # Parameters of a bounding rectangle:\n",
    "# 0 - left upper x coordinate of an object bounding rectangle in image plane, px\n",
    "# 1 - left upper y coordinate of an object bounding rectangle in image plane, px\n",
    "# 2 - width of an object bounding rectangle in image plane, px\n",
    "# 3 - height of an object bounding rectangle in image plane, px\n",
    "c_ar_px_k = 'c_ar_px'     # Object contour area in image plane, px\n",
    "thr_k = 'thr'             # Size of the used kernel for morphological dilate on the resulting mask to imitate motion blur\n",
    "dd_k = 'dd'               # Real object depth, m"
   ]
  },
  {
   "cell_type": "code",
   "execution_count": 12,
   "id": "everyday-creek",
   "metadata": {},
   "outputs": [],
   "source": [
    "def read_dataframe(target_df_path, noises_df_path):\n",
    "    \"\"\"\n",
    "    Read the source training data from files and filter it\n",
    "    :param target_df_path: path to csv file containing objects' features\n",
    "    :param noises_df_path: path to csv file containing noises' features\n",
    "    :return: filtered and merged dataframe\n",
    "    \"\"\"\n",
    "    target_df = pd.read_csv(target_df_path)\n",
    "    noises_df = pd.read_csv(noises_df_path)\n",
    "    full_dataframe = pd.concat([noises_df, target_df])\n",
    "\n",
    "    return full_dataframe\n",
    "\n",
    "\n",
    "def prepare_data_for_training(full_dataframe, features_cols):\n",
    "    \"\"\"\n",
    "    Prepare data for model fitting: select important features from dataframe and merge them into numpy array\n",
    "    :param full_dataframe: dataframe describing target and noises classes\n",
    "    :param features_cols: features indices to take into account\n",
    "    :return: features, labels\n",
    "    \"\"\"\n",
    "    # All meaningful features\n",
    "    x_tr = np.stack([full_dataframe[key] for key in features_cols], axis=1)\n",
    "    y_tr = full_dataframe[o_class_k]\n",
    "    poly_scale = PolynomialFeatures(2, include_bias=True)  # Increase features polynomial order\n",
    "    x_tr = poly_scale.fit_transform(x_tr)\n",
    "\n",
    "    return x_tr, y_tr, poly_scale\n",
    "\n",
    "\n",
    "def estimate_clf(clf, X_test, y):\n",
    "    # Evaluate accuracy\n",
    "    def gen_report(y, y_pred):\n",
    "        report = 'Precision P=TP/TP+FP\\nRecall R=TP/TP+FN\\nF1 score F1=2*(P*R)/(P+R)\\n'\n",
    "        report += f'Accuracy {accuracy_score(y, y_pred)}\\n'\n",
    "        report += f'{classification_report(y, y_pred)}\\n'\n",
    "        report += f'{confusion_matrix(y, y_pred)}\\n'\n",
    "\n",
    "        return report\n",
    "\n",
    "    # Classify the dataset\n",
    "    y_pred = clf.predict(X_test)\n",
    "    # y_prob = clf.predict_proba(X_test)\n",
    "    return gen_report(y, y_pred)"
   ]
  },
  {
   "cell_type": "markdown",
   "id": "juvenile-manner",
   "metadata": {},
   "source": [
    "## Read data "
   ]
  },
  {
   "cell_type": "code",
   "execution_count": 5,
   "id": "hired-monster",
   "metadata": {},
   "outputs": [
    {
     "name": "stdout",
     "output_type": "stream",
     "text": [
      "Input data shape: (546981, 21)\n",
      "Cases: angles [-39.], heights [-3.32 -3.4 ]\n"
     ]
    }
   ],
   "source": [
    "features_path = '../features.csv'\n",
    "noises_path = '../noises.csv'\n",
    "\n",
    "dt = read_dataframe(features_path, noises_path)\n",
    "print(f'Input data shape: {dt.shape}')\n",
    "print(f'Cases: angles {dt[cam_a_k].unique()}, heights {dt[cam_y_k].unique()}')"
   ]
  },
  {
   "cell_type": "markdown",
   "id": "brazilian-tourism",
   "metadata": {},
   "source": [
    "## Select features for a particular height and angle"
   ]
  },
  {
   "cell_type": "code",
   "execution_count": 18,
   "id": "attended-vertical",
   "metadata": {},
   "outputs": [],
   "source": [
    "angle = -39\n",
    "height = -3.32"
   ]
  },
  {
   "cell_type": "code",
   "execution_count": 19,
   "id": "central-accessory",
   "metadata": {},
   "outputs": [],
   "source": [
    "dt_ = dt[(dt[cam_a_k] == angle) & (dt[cam_y_k] == height)]"
   ]
  },
  {
   "cell_type": "markdown",
   "id": "specific-editor",
   "metadata": {},
   "source": [
    "## Load trained classifier"
   ]
  },
  {
   "cell_type": "code",
   "execution_count": 21,
   "id": "selective-mattress",
   "metadata": {},
   "outputs": [
    {
     "name": "stdout",
     "output_type": "stream",
     "text": [
      "{-3.32: {-39.0: LogisticRegression(C=3, n_jobs=-1, solver='newton-cg', verbose=1)}, -3.4: {-39.0: LogisticRegression(C=3, n_jobs=-1, solver='newton-cg', verbose=1)}, 'poly': PolynomialFeatures()}\n"
     ]
    }
   ],
   "source": [
    "import pickle\n",
    "all_classifiers = pickle.load(open('../clf.pcl', \"rb\"))\n",
    "print(all_classifiers)\n",
    "\n",
    "poly = all_classifiers['poly']\n",
    "clf = all_classifiers[height][angle]"
   ]
  },
  {
   "cell_type": "markdown",
   "id": "quarterly-conviction",
   "metadata": {},
   "source": [
    "## Print report"
   ]
  },
  {
   "cell_type": "code",
   "execution_count": 23,
   "id": "intense-electronics",
   "metadata": {},
   "outputs": [
    {
     "name": "stdout",
     "output_type": "stream",
     "text": [
      "Precision P=TP/TP+FP\n",
      "Recall R=TP/TP+FN\n",
      "F1 score F1=2*(P*R)/(P+R)\n",
      "Accuracy 0.8822727872119089\n",
      "              precision    recall  f1-score   support\n",
      "\n",
      "           0       0.98      0.97      0.98     40000\n",
      "           1       0.86      0.97      0.91    153862\n",
      "           2       0.70      0.37      0.49     38550\n",
      "           3       0.97      0.95      0.96     40592\n",
      "\n",
      "    accuracy                           0.88    273004\n",
      "   macro avg       0.88      0.82      0.83    273004\n",
      "weighted avg       0.87      0.88      0.87    273004\n",
      "\n",
      "[[ 38753    260    150    837]\n",
      " [    20 149220   4622      0]\n",
      " [    46  23602  14427    475]\n",
      " [   609     63   1456  38464]]\n",
      "\n"
     ]
    }
   ],
   "source": [
    "feature_vector = [w_est_k, h_est_k, z_est_k]  # Name of columns are used for training\n",
    "x_train, y_train, _ = prepare_data_for_training(dt_, feature_vector)\n",
    "print(estimate_clf(clf, x_train, y_train))"
   ]
  },
  {
   "cell_type": "code",
   "execution_count": null,
   "id": "tight-scope",
   "metadata": {},
   "outputs": [],
   "source": []
  }
 ],
 "metadata": {
  "kernelspec": {
   "display_name": "Python 3",
   "language": "python",
   "name": "python3"
  },
  "language_info": {
   "codemirror_mode": {
    "name": "ipython",
    "version": 3
   },
   "file_extension": ".py",
   "mimetype": "text/x-python",
   "name": "python",
   "nbconvert_exporter": "python",
   "pygments_lexer": "ipython3",
   "version": "3.7.3"
  }
 },
 "nbformat": 4,
 "nbformat_minor": 5
}
